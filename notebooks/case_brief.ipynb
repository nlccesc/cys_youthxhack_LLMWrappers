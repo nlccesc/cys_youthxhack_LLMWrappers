{
 "cells": [
  {
   "cell_type": "markdown",
   "id": "d9043b33-a0d9-47d2-b27c-736fb439cd1b",
   "metadata": {},
   "source": [
    "# Digital Defense"
   ]
  },
  {
   "attachments": {},
   "cell_type": "markdown",
   "id": "2e4931d8-c8f1-45bb-a479-2d8f9000a7b8",
   "metadata": {},
   "source": [
    "# Overview\n",
    "\n",
    "Organizations routinely communicate essential updates, promotions, and important notices to their customers through various channels. \n",
    "\n",
    "These channels are generally perceived as trustworthy by users, leading to a high level of engagement. \n",
    "However, threat actors have increasingly taken advantage of this trust by embedding deceptive digital interactions within these communications. Such tactics make it challenging for users to distinguish between legitimate communications and those designed to exploit them. \n",
    "\n",
    "Harmful elements, including but not limited to, scannable QR codes, clickable links, digital identifiers, tracking codes, digital markers, and signatures. These are designed to trick recipients into interacting with fake websites, sharing sensitive information, or even installing harmful software. "
   ]
  },
  {
   "cell_type": "markdown",
   "id": "5693d8f4-6db2-4995-987e-e98e31960bbc",
   "metadata": {},
   "source": [
    "# Problem Statement and Objectives"
   ]
  },
  {
   "cell_type": "markdown",
   "id": "0bf8b766-9e27-46b5-97a4-6265fae2aef3",
   "metadata": {},
   "source": [
    "# Problem statement\n",
    "\n",
    "Can we develop a solution that enables everyone, regardless of their level of technical knowledge—to easily verify the safety and legitimacy of digital content or links they encounter? \n",
    "\n",
    "The solution should empower users to confidently distinguish between genuine and fraudulent interactions, enhancing their safety and trust in digital communications.\n"
   ]
  },
  {
   "cell_type": "markdown",
   "id": "9c1b78a5-eca6-4217-997c-adb3d8651ee2",
   "metadata": {},
   "source": [
    "# Objectives"
   ]
  },
  {
   "cell_type": "markdown",
   "id": "8333e103-0b47-4ef6-8af6-6b2c22a20213",
   "metadata": {},
   "source": [
    "# 1. Enable User-Friendly Verification Methods \n",
    "\n",
    "Develop or enhance tools that allow users to easily verify the authenticity of digital content (e.g. QR codes, links) before interacting with it.\n",
    "Ensure the verification process is quick, simple, and accessible to users of varying technical expertise\n"
   ]
  },
  {
   "cell_type": "markdown",
   "id": "52bb28bc-346d-4975-aee8-c8a797c90c05",
   "metadata": {},
   "source": [
    "# 2. Provide User-Centric Alerts and Proactive Safeguards"
   ]
  },
  {
   "cell_type": "markdown",
   "id": "34b2d0b1-8df7-41f9-ab38-9c1ef14d020a",
   "metadata": {},
   "source": [
    "Empower users to receive automated alerts, perform manual checks, and access self-help tools to identify risks proactively\n",
    "Include features like browser-based alerts, email verification plugins, and QR code scanners that proactively flag potential threats\n"
   ]
  },
  {
   "cell_type": "markdown",
   "id": "a42ed0a7-c4a7-49a7-889e-f824f40dc94f",
   "metadata": {},
   "source": [
    "# 3. Promote Secure Interaction with Digital Content"
   ]
  },
  {
   "cell_type": "markdown",
   "id": "0fa3b759-9851-43ed-bf03-9d178a9cb234",
   "metadata": {},
   "source": [
    "Create solutions that provide clear indicators or ratings for trustworthiness, helping users distinguish between legitimate and malicious content\n",
    "Encourage a proactive approach where users can confidently verify content across all communication channels"
   ]
  },
  {
   "cell_type": "markdown",
   "id": "d9a0bfcb-1236-48b4-9281-c82299076b78",
   "metadata": {},
   "source": [
    "# Readings I feel will be useful for inspiration:"
   ]
  },
  {
   "cell_type": "markdown",
   "id": "369c3f66-b311-476f-b010-f81da326a491",
   "metadata": {},
   "source": [
    "1. SoK: Trusting Self-Sovereign Identityhttps://arxiv.org/pdf/2404.06729v2\n"
   ]
  }
 ],
 "metadata": {
  "kernelspec": {
   "display_name": "Python 3 (ipykernel)",
   "language": "python",
   "name": "python3"
  },
  "language_info": {
   "codemirror_mode": {
    "name": "ipython",
    "version": 3
   },
   "file_extension": ".py",
   "mimetype": "text/x-python",
   "name": "python",
   "nbconvert_exporter": "python",
   "pygments_lexer": "ipython3",
   "version": "3.12.3"
  }
 },
 "nbformat": 4,
 "nbformat_minor": 5
}
